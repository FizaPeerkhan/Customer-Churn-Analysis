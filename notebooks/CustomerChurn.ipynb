{
  "nbformat": 4,
  "nbformat_minor": 0,
  "metadata": {
    "colab": {
      "provenance": []
    },
    "kernelspec": {
      "name": "python3",
      "display_name": "Python 3"
    },
    "language_info": {
      "name": "python"
    }
  },
  "cells": [
    {
      "cell_type": "markdown",
      "source": [
        "**1. Initial Cleaning**"
      ],
      "metadata": {
        "id": "qt9q4q3krIqo"
      }
    },
    {
      "cell_type": "code",
      "source": [
        "import pandas as pd\n",
        "import numpy as np"
      ],
      "metadata": {
        "id": "hLeIHyiyrMqv"
      },
      "execution_count": 1,
      "outputs": []
    },
    {
      "cell_type": "code",
      "source": [
        "# Load the dataset\n",
        "df = pd.read_csv('netflix_customer_churn.csv')"
      ],
      "metadata": {
        "id": "dJDVGqUKrQqA"
      },
      "execution_count": 2,
      "outputs": []
    },
    {
      "cell_type": "code",
      "source": [
        "print(df.shape)"
      ],
      "metadata": {
        "colab": {
          "base_uri": "https://localhost:8080/"
        },
        "id": "xSiSS_t8ruIt",
        "outputId": "57533824-66f7-4b37-880e-971bab2a89d9"
      },
      "execution_count": 3,
      "outputs": [
        {
          "output_type": "stream",
          "name": "stdout",
          "text": [
            "(5000, 14)\n"
          ]
        }
      ]
    },
    {
      "cell_type": "code",
      "source": [
        "df.columns"
      ],
      "metadata": {
        "colab": {
          "base_uri": "https://localhost:8080/"
        },
        "id": "piaF1kQtr6-M",
        "outputId": "c64634db-4a98-48e5-821b-3f23da24ec8b"
      },
      "execution_count": 4,
      "outputs": [
        {
          "output_type": "execute_result",
          "data": {
            "text/plain": [
              "Index(['customer_id', 'age', 'gender', 'subscription_type', 'watch_hours',\n",
              "       'last_login_days', 'region', 'device', 'monthly_fee', 'churned',\n",
              "       'payment_method', 'number_of_profiles', 'avg_watch_time_per_day',\n",
              "       'favorite_genre'],\n",
              "      dtype='object')"
            ]
          },
          "metadata": {},
          "execution_count": 4
        }
      ]
    },
    {
      "cell_type": "code",
      "source": [
        "df.info()"
      ],
      "metadata": {
        "colab": {
          "base_uri": "https://localhost:8080/"
        },
        "id": "p5titYUWr9gk",
        "outputId": "fc9fda21-f8f3-489b-8a68-7837699500bf"
      },
      "execution_count": 5,
      "outputs": [
        {
          "output_type": "stream",
          "name": "stdout",
          "text": [
            "<class 'pandas.core.frame.DataFrame'>\n",
            "RangeIndex: 5000 entries, 0 to 4999\n",
            "Data columns (total 14 columns):\n",
            " #   Column                  Non-Null Count  Dtype  \n",
            "---  ------                  --------------  -----  \n",
            " 0   customer_id             5000 non-null   object \n",
            " 1   age                     5000 non-null   int64  \n",
            " 2   gender                  5000 non-null   object \n",
            " 3   subscription_type       5000 non-null   object \n",
            " 4   watch_hours             5000 non-null   float64\n",
            " 5   last_login_days         5000 non-null   int64  \n",
            " 6   region                  5000 non-null   object \n",
            " 7   device                  5000 non-null   object \n",
            " 8   monthly_fee             5000 non-null   float64\n",
            " 9   churned                 5000 non-null   int64  \n",
            " 10  payment_method          5000 non-null   object \n",
            " 11  number_of_profiles      5000 non-null   int64  \n",
            " 12  avg_watch_time_per_day  5000 non-null   float64\n",
            " 13  favorite_genre          5000 non-null   object \n",
            "dtypes: float64(3), int64(4), object(7)\n",
            "memory usage: 547.0+ KB\n"
          ]
        }
      ]
    },
    {
      "cell_type": "code",
      "source": [
        "df.head()"
      ],
      "metadata": {
        "colab": {
          "base_uri": "https://localhost:8080/",
          "height": 469
        },
        "id": "fxETem2ir_p0",
        "outputId": "d035583e-34c3-4edf-937c-21a8b8d0834b"
      },
      "execution_count": 6,
      "outputs": [
        {
          "output_type": "execute_result",
          "data": {
            "text/plain": [
              "                            customer_id  age  gender subscription_type  \\\n",
              "0  a9b75100-82a8-427a-a208-72f24052884a   51   Other             Basic   \n",
              "1  49a5dfd9-7e69-4022-a6ad-0a1b9767fb5b   47   Other          Standard   \n",
              "2  4d71f6ce-fca9-4ff7-8afa-197ac24de14b   27  Female          Standard   \n",
              "3  d3c72c38-631b-4f9e-8a0e-de103cad1a7d   53   Other           Premium   \n",
              "4  4e265c34-103a-4dbb-9553-76c9aa47e946   56   Other          Standard   \n",
              "\n",
              "   watch_hours  last_login_days   region  device  monthly_fee  churned  \\\n",
              "0        14.73               29   Africa      TV         8.99        1   \n",
              "1         0.70               19   Europe  Mobile        13.99        1   \n",
              "2        16.32               10     Asia      TV        13.99        0   \n",
              "3         4.51               12  Oceania      TV        17.99        1   \n",
              "4         1.89               13   Africa  Mobile        13.99        1   \n",
              "\n",
              "  payment_method  number_of_profiles  avg_watch_time_per_day favorite_genre  \n",
              "0      Gift Card                   1                    0.49         Action  \n",
              "1      Gift Card                   5                    0.03         Sci-Fi  \n",
              "2         Crypto                   2                    1.48          Drama  \n",
              "3         Crypto                   2                    0.35         Horror  \n",
              "4         Crypto                   2                    0.13         Action  "
            ],
            "text/html": [
              "\n",
              "  <div id=\"df-bb1fd44f-eaea-4e8f-bb7e-d0f4f0685720\" class=\"colab-df-container\">\n",
              "    <div>\n",
              "<style scoped>\n",
              "    .dataframe tbody tr th:only-of-type {\n",
              "        vertical-align: middle;\n",
              "    }\n",
              "\n",
              "    .dataframe tbody tr th {\n",
              "        vertical-align: top;\n",
              "    }\n",
              "\n",
              "    .dataframe thead th {\n",
              "        text-align: right;\n",
              "    }\n",
              "</style>\n",
              "<table border=\"1\" class=\"dataframe\">\n",
              "  <thead>\n",
              "    <tr style=\"text-align: right;\">\n",
              "      <th></th>\n",
              "      <th>customer_id</th>\n",
              "      <th>age</th>\n",
              "      <th>gender</th>\n",
              "      <th>subscription_type</th>\n",
              "      <th>watch_hours</th>\n",
              "      <th>last_login_days</th>\n",
              "      <th>region</th>\n",
              "      <th>device</th>\n",
              "      <th>monthly_fee</th>\n",
              "      <th>churned</th>\n",
              "      <th>payment_method</th>\n",
              "      <th>number_of_profiles</th>\n",
              "      <th>avg_watch_time_per_day</th>\n",
              "      <th>favorite_genre</th>\n",
              "    </tr>\n",
              "  </thead>\n",
              "  <tbody>\n",
              "    <tr>\n",
              "      <th>0</th>\n",
              "      <td>a9b75100-82a8-427a-a208-72f24052884a</td>\n",
              "      <td>51</td>\n",
              "      <td>Other</td>\n",
              "      <td>Basic</td>\n",
              "      <td>14.73</td>\n",
              "      <td>29</td>\n",
              "      <td>Africa</td>\n",
              "      <td>TV</td>\n",
              "      <td>8.99</td>\n",
              "      <td>1</td>\n",
              "      <td>Gift Card</td>\n",
              "      <td>1</td>\n",
              "      <td>0.49</td>\n",
              "      <td>Action</td>\n",
              "    </tr>\n",
              "    <tr>\n",
              "      <th>1</th>\n",
              "      <td>49a5dfd9-7e69-4022-a6ad-0a1b9767fb5b</td>\n",
              "      <td>47</td>\n",
              "      <td>Other</td>\n",
              "      <td>Standard</td>\n",
              "      <td>0.70</td>\n",
              "      <td>19</td>\n",
              "      <td>Europe</td>\n",
              "      <td>Mobile</td>\n",
              "      <td>13.99</td>\n",
              "      <td>1</td>\n",
              "      <td>Gift Card</td>\n",
              "      <td>5</td>\n",
              "      <td>0.03</td>\n",
              "      <td>Sci-Fi</td>\n",
              "    </tr>\n",
              "    <tr>\n",
              "      <th>2</th>\n",
              "      <td>4d71f6ce-fca9-4ff7-8afa-197ac24de14b</td>\n",
              "      <td>27</td>\n",
              "      <td>Female</td>\n",
              "      <td>Standard</td>\n",
              "      <td>16.32</td>\n",
              "      <td>10</td>\n",
              "      <td>Asia</td>\n",
              "      <td>TV</td>\n",
              "      <td>13.99</td>\n",
              "      <td>0</td>\n",
              "      <td>Crypto</td>\n",
              "      <td>2</td>\n",
              "      <td>1.48</td>\n",
              "      <td>Drama</td>\n",
              "    </tr>\n",
              "    <tr>\n",
              "      <th>3</th>\n",
              "      <td>d3c72c38-631b-4f9e-8a0e-de103cad1a7d</td>\n",
              "      <td>53</td>\n",
              "      <td>Other</td>\n",
              "      <td>Premium</td>\n",
              "      <td>4.51</td>\n",
              "      <td>12</td>\n",
              "      <td>Oceania</td>\n",
              "      <td>TV</td>\n",
              "      <td>17.99</td>\n",
              "      <td>1</td>\n",
              "      <td>Crypto</td>\n",
              "      <td>2</td>\n",
              "      <td>0.35</td>\n",
              "      <td>Horror</td>\n",
              "    </tr>\n",
              "    <tr>\n",
              "      <th>4</th>\n",
              "      <td>4e265c34-103a-4dbb-9553-76c9aa47e946</td>\n",
              "      <td>56</td>\n",
              "      <td>Other</td>\n",
              "      <td>Standard</td>\n",
              "      <td>1.89</td>\n",
              "      <td>13</td>\n",
              "      <td>Africa</td>\n",
              "      <td>Mobile</td>\n",
              "      <td>13.99</td>\n",
              "      <td>1</td>\n",
              "      <td>Crypto</td>\n",
              "      <td>2</td>\n",
              "      <td>0.13</td>\n",
              "      <td>Action</td>\n",
              "    </tr>\n",
              "  </tbody>\n",
              "</table>\n",
              "</div>\n",
              "    <div class=\"colab-df-buttons\">\n",
              "\n",
              "  <div class=\"colab-df-container\">\n",
              "    <button class=\"colab-df-convert\" onclick=\"convertToInteractive('df-bb1fd44f-eaea-4e8f-bb7e-d0f4f0685720')\"\n",
              "            title=\"Convert this dataframe to an interactive table.\"\n",
              "            style=\"display:none;\">\n",
              "\n",
              "  <svg xmlns=\"http://www.w3.org/2000/svg\" height=\"24px\" viewBox=\"0 -960 960 960\">\n",
              "    <path d=\"M120-120v-720h720v720H120Zm60-500h600v-160H180v160Zm220 220h160v-160H400v160Zm0 220h160v-160H400v160ZM180-400h160v-160H180v160Zm440 0h160v-160H620v160ZM180-180h160v-160H180v160Zm440 0h160v-160H620v160Z\"/>\n",
              "  </svg>\n",
              "    </button>\n",
              "\n",
              "  <style>\n",
              "    .colab-df-container {\n",
              "      display:flex;\n",
              "      gap: 12px;\n",
              "    }\n",
              "\n",
              "    .colab-df-convert {\n",
              "      background-color: #E8F0FE;\n",
              "      border: none;\n",
              "      border-radius: 50%;\n",
              "      cursor: pointer;\n",
              "      display: none;\n",
              "      fill: #1967D2;\n",
              "      height: 32px;\n",
              "      padding: 0 0 0 0;\n",
              "      width: 32px;\n",
              "    }\n",
              "\n",
              "    .colab-df-convert:hover {\n",
              "      background-color: #E2EBFA;\n",
              "      box-shadow: 0px 1px 2px rgba(60, 64, 67, 0.3), 0px 1px 3px 1px rgba(60, 64, 67, 0.15);\n",
              "      fill: #174EA6;\n",
              "    }\n",
              "\n",
              "    .colab-df-buttons div {\n",
              "      margin-bottom: 4px;\n",
              "    }\n",
              "\n",
              "    [theme=dark] .colab-df-convert {\n",
              "      background-color: #3B4455;\n",
              "      fill: #D2E3FC;\n",
              "    }\n",
              "\n",
              "    [theme=dark] .colab-df-convert:hover {\n",
              "      background-color: #434B5C;\n",
              "      box-shadow: 0px 1px 3px 1px rgba(0, 0, 0, 0.15);\n",
              "      filter: drop-shadow(0px 1px 2px rgba(0, 0, 0, 0.3));\n",
              "      fill: #FFFFFF;\n",
              "    }\n",
              "  </style>\n",
              "\n",
              "    <script>\n",
              "      const buttonEl =\n",
              "        document.querySelector('#df-bb1fd44f-eaea-4e8f-bb7e-d0f4f0685720 button.colab-df-convert');\n",
              "      buttonEl.style.display =\n",
              "        google.colab.kernel.accessAllowed ? 'block' : 'none';\n",
              "\n",
              "      async function convertToInteractive(key) {\n",
              "        const element = document.querySelector('#df-bb1fd44f-eaea-4e8f-bb7e-d0f4f0685720');\n",
              "        const dataTable =\n",
              "          await google.colab.kernel.invokeFunction('convertToInteractive',\n",
              "                                                    [key], {});\n",
              "        if (!dataTable) return;\n",
              "\n",
              "        const docLinkHtml = 'Like what you see? Visit the ' +\n",
              "          '<a target=\"_blank\" href=https://colab.research.google.com/notebooks/data_table.ipynb>data table notebook</a>'\n",
              "          + ' to learn more about interactive tables.';\n",
              "        element.innerHTML = '';\n",
              "        dataTable['output_type'] = 'display_data';\n",
              "        await google.colab.output.renderOutput(dataTable, element);\n",
              "        const docLink = document.createElement('div');\n",
              "        docLink.innerHTML = docLinkHtml;\n",
              "        element.appendChild(docLink);\n",
              "      }\n",
              "    </script>\n",
              "  </div>\n",
              "\n",
              "\n",
              "    <div id=\"df-8536c429-3a6d-4ab0-917a-9b4399ad2e3b\">\n",
              "      <button class=\"colab-df-quickchart\" onclick=\"quickchart('df-8536c429-3a6d-4ab0-917a-9b4399ad2e3b')\"\n",
              "                title=\"Suggest charts\"\n",
              "                style=\"display:none;\">\n",
              "\n",
              "<svg xmlns=\"http://www.w3.org/2000/svg\" height=\"24px\"viewBox=\"0 0 24 24\"\n",
              "     width=\"24px\">\n",
              "    <g>\n",
              "        <path d=\"M19 3H5c-1.1 0-2 .9-2 2v14c0 1.1.9 2 2 2h14c1.1 0 2-.9 2-2V5c0-1.1-.9-2-2-2zM9 17H7v-7h2v7zm4 0h-2V7h2v10zm4 0h-2v-4h2v4z\"/>\n",
              "    </g>\n",
              "</svg>\n",
              "      </button>\n",
              "\n",
              "<style>\n",
              "  .colab-df-quickchart {\n",
              "      --bg-color: #E8F0FE;\n",
              "      --fill-color: #1967D2;\n",
              "      --hover-bg-color: #E2EBFA;\n",
              "      --hover-fill-color: #174EA6;\n",
              "      --disabled-fill-color: #AAA;\n",
              "      --disabled-bg-color: #DDD;\n",
              "  }\n",
              "\n",
              "  [theme=dark] .colab-df-quickchart {\n",
              "      --bg-color: #3B4455;\n",
              "      --fill-color: #D2E3FC;\n",
              "      --hover-bg-color: #434B5C;\n",
              "      --hover-fill-color: #FFFFFF;\n",
              "      --disabled-bg-color: #3B4455;\n",
              "      --disabled-fill-color: #666;\n",
              "  }\n",
              "\n",
              "  .colab-df-quickchart {\n",
              "    background-color: var(--bg-color);\n",
              "    border: none;\n",
              "    border-radius: 50%;\n",
              "    cursor: pointer;\n",
              "    display: none;\n",
              "    fill: var(--fill-color);\n",
              "    height: 32px;\n",
              "    padding: 0;\n",
              "    width: 32px;\n",
              "  }\n",
              "\n",
              "  .colab-df-quickchart:hover {\n",
              "    background-color: var(--hover-bg-color);\n",
              "    box-shadow: 0 1px 2px rgba(60, 64, 67, 0.3), 0 1px 3px 1px rgba(60, 64, 67, 0.15);\n",
              "    fill: var(--button-hover-fill-color);\n",
              "  }\n",
              "\n",
              "  .colab-df-quickchart-complete:disabled,\n",
              "  .colab-df-quickchart-complete:disabled:hover {\n",
              "    background-color: var(--disabled-bg-color);\n",
              "    fill: var(--disabled-fill-color);\n",
              "    box-shadow: none;\n",
              "  }\n",
              "\n",
              "  .colab-df-spinner {\n",
              "    border: 2px solid var(--fill-color);\n",
              "    border-color: transparent;\n",
              "    border-bottom-color: var(--fill-color);\n",
              "    animation:\n",
              "      spin 1s steps(1) infinite;\n",
              "  }\n",
              "\n",
              "  @keyframes spin {\n",
              "    0% {\n",
              "      border-color: transparent;\n",
              "      border-bottom-color: var(--fill-color);\n",
              "      border-left-color: var(--fill-color);\n",
              "    }\n",
              "    20% {\n",
              "      border-color: transparent;\n",
              "      border-left-color: var(--fill-color);\n",
              "      border-top-color: var(--fill-color);\n",
              "    }\n",
              "    30% {\n",
              "      border-color: transparent;\n",
              "      border-left-color: var(--fill-color);\n",
              "      border-top-color: var(--fill-color);\n",
              "      border-right-color: var(--fill-color);\n",
              "    }\n",
              "    40% {\n",
              "      border-color: transparent;\n",
              "      border-right-color: var(--fill-color);\n",
              "      border-top-color: var(--fill-color);\n",
              "    }\n",
              "    60% {\n",
              "      border-color: transparent;\n",
              "      border-right-color: var(--fill-color);\n",
              "    }\n",
              "    80% {\n",
              "      border-color: transparent;\n",
              "      border-right-color: var(--fill-color);\n",
              "      border-bottom-color: var(--fill-color);\n",
              "    }\n",
              "    90% {\n",
              "      border-color: transparent;\n",
              "      border-bottom-color: var(--fill-color);\n",
              "    }\n",
              "  }\n",
              "</style>\n",
              "\n",
              "      <script>\n",
              "        async function quickchart(key) {\n",
              "          const quickchartButtonEl =\n",
              "            document.querySelector('#' + key + ' button');\n",
              "          quickchartButtonEl.disabled = true;  // To prevent multiple clicks.\n",
              "          quickchartButtonEl.classList.add('colab-df-spinner');\n",
              "          try {\n",
              "            const charts = await google.colab.kernel.invokeFunction(\n",
              "                'suggestCharts', [key], {});\n",
              "          } catch (error) {\n",
              "            console.error('Error during call to suggestCharts:', error);\n",
              "          }\n",
              "          quickchartButtonEl.classList.remove('colab-df-spinner');\n",
              "          quickchartButtonEl.classList.add('colab-df-quickchart-complete');\n",
              "        }\n",
              "        (() => {\n",
              "          let quickchartButtonEl =\n",
              "            document.querySelector('#df-8536c429-3a6d-4ab0-917a-9b4399ad2e3b button');\n",
              "          quickchartButtonEl.style.display =\n",
              "            google.colab.kernel.accessAllowed ? 'block' : 'none';\n",
              "        })();\n",
              "      </script>\n",
              "    </div>\n",
              "\n",
              "    </div>\n",
              "  </div>\n"
            ],
            "application/vnd.google.colaboratory.intrinsic+json": {
              "type": "dataframe",
              "variable_name": "df",
              "summary": "{\n  \"name\": \"df\",\n  \"rows\": 5000,\n  \"fields\": [\n    {\n      \"column\": \"customer_id\",\n      \"properties\": {\n        \"dtype\": \"string\",\n        \"num_unique_values\": 5000,\n        \"samples\": [\n          \"815bed6b-02ad-465b-9f68-c07c508524ce\",\n          \"2f55007a-9682-4109-8431-2fa060e85673\",\n          \"89931699-5ba5-434a-8dca-32e18d7dbd4b\"\n        ],\n        \"semantic_type\": \"\",\n        \"description\": \"\"\n      }\n    },\n    {\n      \"column\": \"age\",\n      \"properties\": {\n        \"dtype\": \"number\",\n        \"std\": 15,\n        \"min\": 18,\n        \"max\": 70,\n        \"num_unique_values\": 53,\n        \"samples\": [\n          55,\n          41,\n          33\n        ],\n        \"semantic_type\": \"\",\n        \"description\": \"\"\n      }\n    },\n    {\n      \"column\": \"gender\",\n      \"properties\": {\n        \"dtype\": \"category\",\n        \"num_unique_values\": 3,\n        \"samples\": [\n          \"Other\",\n          \"Female\",\n          \"Male\"\n        ],\n        \"semantic_type\": \"\",\n        \"description\": \"\"\n      }\n    },\n    {\n      \"column\": \"subscription_type\",\n      \"properties\": {\n        \"dtype\": \"category\",\n        \"num_unique_values\": 3,\n        \"samples\": [\n          \"Basic\",\n          \"Standard\",\n          \"Premium\"\n        ],\n        \"semantic_type\": \"\",\n        \"description\": \"\"\n      }\n    },\n    {\n      \"column\": \"watch_hours\",\n      \"properties\": {\n        \"dtype\": \"number\",\n        \"std\": 12.014653647024184,\n        \"min\": 0.01,\n        \"max\": 110.4,\n        \"num_unique_values\": 2343,\n        \"samples\": [\n          6.71,\n          5.11,\n          1.22\n        ],\n        \"semantic_type\": \"\",\n        \"description\": \"\"\n      }\n    },\n    {\n      \"column\": \"last_login_days\",\n      \"properties\": {\n        \"dtype\": \"number\",\n        \"std\": 17,\n        \"min\": 0,\n        \"max\": 60,\n        \"num_unique_values\": 61,\n        \"samples\": [\n          29,\n          26,\n          2\n        ],\n        \"semantic_type\": \"\",\n        \"description\": \"\"\n      }\n    },\n    {\n      \"column\": \"region\",\n      \"properties\": {\n        \"dtype\": \"category\",\n        \"num_unique_values\": 6,\n        \"samples\": [\n          \"Africa\",\n          \"Europe\",\n          \"North America\"\n        ],\n        \"semantic_type\": \"\",\n        \"description\": \"\"\n      }\n    },\n    {\n      \"column\": \"device\",\n      \"properties\": {\n        \"dtype\": \"category\",\n        \"num_unique_values\": 5,\n        \"samples\": [\n          \"Mobile\",\n          \"Tablet\",\n          \"Laptop\"\n        ],\n        \"semantic_type\": \"\",\n        \"description\": \"\"\n      }\n    },\n    {\n      \"column\": \"monthly_fee\",\n      \"properties\": {\n        \"dtype\": \"number\",\n        \"std\": 3.69206212089409,\n        \"min\": 8.99,\n        \"max\": 17.99,\n        \"num_unique_values\": 3,\n        \"samples\": [\n          8.99,\n          13.99,\n          17.99\n        ],\n        \"semantic_type\": \"\",\n        \"description\": \"\"\n      }\n    },\n    {\n      \"column\": \"churned\",\n      \"properties\": {\n        \"dtype\": \"number\",\n        \"std\": 0,\n        \"min\": 0,\n        \"max\": 1,\n        \"num_unique_values\": 2,\n        \"samples\": [\n          0,\n          1\n        ],\n        \"semantic_type\": \"\",\n        \"description\": \"\"\n      }\n    },\n    {\n      \"column\": \"payment_method\",\n      \"properties\": {\n        \"dtype\": \"category\",\n        \"num_unique_values\": 5,\n        \"samples\": [\n          \"Crypto\",\n          \"Credit Card\"\n        ],\n        \"semantic_type\": \"\",\n        \"description\": \"\"\n      }\n    },\n    {\n      \"column\": \"number_of_profiles\",\n      \"properties\": {\n        \"dtype\": \"number\",\n        \"std\": 1,\n        \"min\": 1,\n        \"max\": 5,\n        \"num_unique_values\": 5,\n        \"samples\": [\n          5,\n          4\n        ],\n        \"semantic_type\": \"\",\n        \"description\": \"\"\n      }\n    },\n    {\n      \"column\": \"avg_watch_time_per_day\",\n      \"properties\": {\n        \"dtype\": \"number\",\n        \"std\": 2.619824325388844,\n        \"min\": 0.0,\n        \"max\": 98.42,\n        \"num_unique_values\": 505,\n        \"samples\": [\n          11.75,\n          1.51\n        ],\n        \"semantic_type\": \"\",\n        \"description\": \"\"\n      }\n    },\n    {\n      \"column\": \"favorite_genre\",\n      \"properties\": {\n        \"dtype\": \"category\",\n        \"num_unique_values\": 7,\n        \"samples\": [\n          \"Action\",\n          \"Sci-Fi\"\n        ],\n        \"semantic_type\": \"\",\n        \"description\": \"\"\n      }\n    }\n  ]\n}"
            }
          },
          "metadata": {},
          "execution_count": 6
        }
      ]
    },
    {
      "cell_type": "code",
      "source": [
        "# Drop customer_id\n",
        "df.drop(columns='customer_id', inplace=True)"
      ],
      "metadata": {
        "id": "vnv1cAfhsCnE"
      },
      "execution_count": 7,
      "outputs": []
    },
    {
      "cell_type": "code",
      "source": [
        "# Rename churn column\n",
        "df.rename(columns={'churned': 'churn'}, inplace=True)"
      ],
      "metadata": {
        "id": "ODaCdJyzsGi8"
      },
      "execution_count": 8,
      "outputs": []
    },
    {
      "cell_type": "code",
      "source": [
        "# Standardize column names\n",
        "df.columns = df.columns.str.lower()"
      ],
      "metadata": {
        "id": "mNKxO1bNsK0E"
      },
      "execution_count": 9,
      "outputs": []
    },
    {
      "cell_type": "markdown",
      "source": [
        "**2. Missing Values Handling**"
      ],
      "metadata": {
        "id": "fO9KC933scN9"
      }
    },
    {
      "cell_type": "code",
      "source": [
        "# Categorical: Fill with mode\n",
        "categorical_cols = ['gender', 'region', 'device', 'payment_method', 'favorite_genre', 'subscription_type']\n",
        "for col in categorical_cols:\n",
        "    df[col] = df[col].fillna(df[col].mode()[0])"
      ],
      "metadata": {
        "id": "GMu8ID5UsfOj"
      },
      "execution_count": 10,
      "outputs": []
    },
    {
      "cell_type": "code",
      "source": [
        "# Numerical: Fill with median\n",
        "numerical_cols = ['age', 'watch_hours', 'last_login_days', 'monthly_fee',\n",
        "                  'number_of_profiles', 'avg_watch_time_per_day']\n",
        "for col in numerical_cols:\n",
        "    df[col] = df[col].fillna(df[col].median())"
      ],
      "metadata": {
        "id": "rE49pNp5si1j"
      },
      "execution_count": 11,
      "outputs": []
    },
    {
      "cell_type": "markdown",
      "source": [
        "**3. Standardize & Fix Types**"
      ],
      "metadata": {
        "id": "rNGAjwqlsozV"
      }
    },
    {
      "cell_type": "code",
      "source": [
        "# Format string columns\n",
        "for col in categorical_cols:\n",
        "    df[col] = df[col].astype(str).str.title()"
      ],
      "metadata": {
        "id": "u7_Abdv4ssTL"
      },
      "execution_count": 12,
      "outputs": []
    },
    {
      "cell_type": "code",
      "source": [
        "# Convert types\n",
        "df['age'] = df['age'].astype(int)\n",
        "df['last_login_days'] = df['last_login_days'].astype(int)\n",
        "df['number_of_profiles'] = df['number_of_profiles'].astype(int)\n",
        "df['churn'] = df['churn'].astype(bool)"
      ],
      "metadata": {
        "id": "jw9c8Ut1su8D"
      },
      "execution_count": 13,
      "outputs": []
    },
    {
      "cell_type": "markdown",
      "source": [
        "**4. Validate & Clean Data**"
      ],
      "metadata": {
        "id": "a0UUZxF6s4Ad"
      }
    },
    {
      "cell_type": "code",
      "source": [
        "# Remove invalid age entries\n",
        "df = df[(df['age'] >= 18) & (df['age'] <= 100)]"
      ],
      "metadata": {
        "id": "HoggjSbzs6gL"
      },
      "execution_count": 14,
      "outputs": []
    },
    {
      "cell_type": "code",
      "source": [
        "# Remove negative or invalid values\n",
        "df = df[(df[numerical_cols] >= 0).all(axis=1)]"
      ],
      "metadata": {
        "id": "An-0IbUnyMvS"
      },
      "execution_count": 15,
      "outputs": []
    },
    {
      "cell_type": "code",
      "source": [
        "# Check monthly_fee validity\n",
        "df = df[df['monthly_fee'].isin([8.99, 13.99, 17.99])]"
      ],
      "metadata": {
        "id": "6OEKragcySpi"
      },
      "execution_count": 16,
      "outputs": []
    },
    {
      "cell_type": "code",
      "source": [
        "# Remove duplicates (if any)\n",
        "df.drop_duplicates(inplace=True)"
      ],
      "metadata": {
        "id": "LacitqpgycEB"
      },
      "execution_count": 17,
      "outputs": []
    },
    {
      "cell_type": "markdown",
      "source": [
        "**5. Feature Engineering**"
      ],
      "metadata": {
        "id": "_uYR_dtczwPC"
      }
    },
    {
      "cell_type": "code",
      "source": [
        "# Engagement feature\n",
        "df['value_per_hour'] = (df['watch_hours'] / df['monthly_fee']).round(2)"
      ],
      "metadata": {
        "id": "TB8YfTaFzzFA"
      },
      "execution_count": 18,
      "outputs": []
    },
    {
      "cell_type": "code",
      "source": [
        "# Activity status\n",
        "df['activity_status'] = np.where(df['last_login_days'] <= 7, 'Active',\n",
        "                          np.where(df['last_login_days'] <= 30, 'Intermittent', 'Dormant'))"
      ],
      "metadata": {
        "id": "68u0bWcHz24I"
      },
      "execution_count": 19,
      "outputs": []
    },
    {
      "cell_type": "code",
      "source": [
        "# Age group\n",
        "df['age_group'] = pd.cut(df['age'], bins=[17,25,35,50,100],\n",
        "                         labels=['18-25','26-35','36-50','51+'])"
      ],
      "metadata": {
        "id": "yGzDIDpxz56x"
      },
      "execution_count": 20,
      "outputs": []
    },
    {
      "cell_type": "code",
      "source": [
        "# Save cleaned dataset\n",
        "df.to_csv('netflix_customer_churn_cleaned.csv', index=False)\n",
        "print(\"Cleaned data saved to 'netflix_customer_churn_cleaned.csv'\")"
      ],
      "metadata": {
        "colab": {
          "base_uri": "https://localhost:8080/"
        },
        "id": "aFaEuxohz8aw",
        "outputId": "9e479234-039a-4452-c168-8fa4bf45d32e"
      },
      "execution_count": 21,
      "outputs": [
        {
          "output_type": "stream",
          "name": "stdout",
          "text": [
            "Cleaned data saved to 'netflix_customer_churn_cleaned.csv'\n"
          ]
        }
      ]
    }
  ]
}